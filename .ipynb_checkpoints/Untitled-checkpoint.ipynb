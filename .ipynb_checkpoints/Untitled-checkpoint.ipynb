{
 "cells": [
  {
   "cell_type": "code",
   "execution_count": 13,
   "metadata": {},
   "outputs": [
    {
     "ename": "SyntaxError",
     "evalue": "invalid syntax (<ipython-input-13-fc0b0a0319f9>, line 21)",
     "output_type": "error",
     "traceback": [
      "\u001b[1;36m  File \u001b[1;32m\"<ipython-input-13-fc0b0a0319f9>\"\u001b[1;36m, line \u001b[1;32m21\u001b[0m\n\u001b[1;33m    print \" \".join(line)\u001b[0m\n\u001b[1;37m            ^\u001b[0m\n\u001b[1;31mSyntaxError\u001b[0m\u001b[1;31m:\u001b[0m invalid syntax\n"
     ]
    }
   ],
   "source": [
    "from random import choice\n",
    "\n",
    "\n",
    "# METODO PARA IMPRESSAO DO TABULEIRO\n",
    "def printBoard(result, param):\n",
    "    # Se a lista de resultados for vazia(ex: hc pode retornar lista vazia)\n",
    "    if not result:\n",
    "        print([None])\n",
    "    # Se tiver resultados e --all = 0\n",
    "    if param == 0 and result:\n",
    "        r = choice(result)\n",
    "        # print r\n",
    "        board = []\n",
    "        for col in r:\n",
    "            line = ['.'] * len(r)\n",
    "            line[col] = 'Q'\n",
    "            board.append(str().join(line))\n",
    "\n",
    "        charlist = map(list, board)\n",
    "        for line in charlist:\n",
    "            print (\" \".join(line))\n",
    "    # Se tiver resultados e --all = 1\n",
    "    else:\n",
    "        # print result\n",
    "        board = []\n",
    "        for r in result:\n",
    "            for c in r:\n",
    "                line = ['.'] * len(r)\n",
    "                line[c] = 'Q'\n",
    "                board.append(str().join(line))\n",
    "\n",
    "        charlist = map(list, board)\n",
    "        for i in range(0, len(charlist)):\n",
    "            if i % len(charlist[i]) == 0:\n",
    "                print (\"\\n\")\n",
    "\n",
    "            print(\" \".join(charlist[i]))\n",
    "    print (\"\\n\")"
   ]
  },
  {
   "cell_type": "code",
   "execution_count": 1,
   "metadata": {},
   "outputs": [],
   "source": [
    "from random import choice\n",
    "from collections import Counter\n",
    "from random import randrange\n",
    "\n",
    "\n",
    "# Classe generica de problemas de busca\n",
    "class SearchProblem:\n",
    "    # Inicia a busca(recebe os parametros iniciais)\n",
    "    def __init__(self, initial=None):\n",
    "        pass\n",
    "\n",
    "    # Define o estado inicial\n",
    "    def initial(self):\n",
    "        pass\n",
    "\n",
    "    # Teste de objetivo\n",
    "    def goal_test(self, state):\n",
    "        pass\n",
    "\n",
    "    # Heuristica, utilizada para problemas de maximizacao ou minimizacao\n",
    "    def heuristic(self, state):\n",
    "        pass\n",
    "\n",
    "    # Retorna os estados acessiveis a partir do estado atual\n",
    "    def nearStates(self, state):\n",
    "        pass\n",
    "\n",
    "    # Retorna uma escolha aleatoria dentre os estados proximos\n",
    "    def randomNearState(self, state):\n",
    "        return choice(self.nearStates(state))\n",
    "\n",
    "\n",
    "# Implementacao do modelo do problema das n-rainhas, sobrescrevendo a classe SearchProblem\n",
    "class NQueensSearch(SearchProblem):\n",
    "    # Modelo de um estado\n",
    "    #\n",
    "    # State: ([line_queens],\n",
    "    #        (a, b, c),\n",
    "    #        (h)\n",
    "    #\n",
    "    # Onde:\n",
    "    # a: guarda o valor da coluna das rainhas\n",
    "    # b: guarda l-c das rainhas\n",
    "    # c: guarda l+c das rainhas\n",
    "    # h: valor da heuristica do estado\n",
    "    # A verificacao se da para cada rainha do tabuleiro, onde e testado\n",
    "    # se existe outra rainha ja visitada com os mesmos valores de a,b,c.\n",
    "    # caso exista, nao e um estado objetivo\n",
    "\n",
    "    def __init__(self, N):\n",
    "        self.N = N\n",
    "\n",
    "    # Estado inicial:\n",
    "    #   Retorna o estado inicial a partir do size\n",
    "    def initial(self):\n",
    "        return list(randrange(self.N) for i in range(self.N))\n",
    "\n",
    "    # Teste de objetivo:\n",
    "    #   Testa se alguma linha/coluna/diagonal e povoada por mais de uma rainha\n",
    "    def goal_test(self, state):\n",
    "        a, b, c = (set() for i in range(3))\n",
    "        for row, col in enumerate(state):\n",
    "            if col in a or row - col in b or row + col in c:\n",
    "                return False\n",
    "            a.add(col)\n",
    "            b.add(row - col)\n",
    "            c.add(row + col)\n",
    "        return True\n",
    "\n",
    "    # Heuristica: h\n",
    "    #   Numero de pares de rainhas se atacando\n",
    "    def heuristic(self, state):\n",
    "        # define a,b,c como contadores\n",
    "        a, b, c = [Counter() for i in range(3)]\n",
    "        # contar quantas rainhas tem o os valores (a,b,c)\n",
    "        # de forma que se obtem por exemplo quantas rainhas tem o valor de a=1\n",
    "        for row, col in enumerate(state):\n",
    "            a[col] += 1\n",
    "            b[row - col] += 1\n",
    "            c[row + col] += 1\n",
    "        h = 0  # inicia as colisoes com 0\n",
    "        # varre as estruturas de contagem (a,b,c) apenas incrementando o valor das colisoes\n",
    "        # caso para algum valor de (a/b/c)>1 ja que e feito cnt[key]-1\n",
    "        # divide para retirar contagens dobradas\n",
    "        for count in [a, b, c]:\n",
    "            for key in count:\n",
    "                h += count[key] * (count[key] - 1) / 2\n",
    "        return -h\n",
    "\n",
    "    # Children ou estados vizinhos: children[]\n",
    "    #   Retorna todos os estados acessiveis a partir do atual movendo as pecas por coluna\n",
    "    def nearStates(self, state):\n",
    "        near_states = []\n",
    "        # Para cada state[coluna] verfica se as colunas vizinhas estao vazias\n",
    "        for row in range(self.N):\n",
    "            for col in range(self.N):\n",
    "                # Se for diferente:\n",
    "                #   entao a col atual da iteracao esta disponivel para movimentar-se\n",
    "                #   visto que o state[] guarda o valor das colunas em que estao as rainhas\n",
    "                if col != state[row]:\n",
    "                    aux = list(state)\n",
    "                    aux[row] = col  # Troca a coluna para a vazia\n",
    "                    near_states.append(list(aux))  # E inclui na lista de nearStates\n",
    "        return near_states"
   ]
  },
  {
   "cell_type": "code",
   "execution_count": 7,
   "metadata": {},
   "outputs": [],
   "source": [
    "from random import shuffle\n",
    "def hill_climbing(problem):\n",
    "    # Chama os neighboards com heuristica maior(pois usamos -h)\n",
    "    current = problem.initial()\n",
    "    while True:\n",
    "        neighbours = problem.nearStates(current)\n",
    "        if not neighbours:\n",
    "            break\n",
    "        # shuffle(neighbours)\n",
    "        neighbour = max(neighbours, key=lambda state: problem.heuristic(state))\n",
    "        if problem.heuristic(neighbour) <= problem.heuristic(current):\n",
    "            break\n",
    "        current = neighbour\n",
    "    return current\n",
    "\n",
    "\n",
    "# HC com random restart\n",
    "def random_restart(problem, limit=10):\n",
    "    state = problem.initial()\n",
    "    count = 0\n",
    "    while problem.goal_test(state) == False and count < limit:\n",
    "        state = hill_climbing(problem)\n",
    "        count += 1\n",
    "    return state"
   ]
  },
  {
   "cell_type": "code",
   "execution_count": 5,
   "metadata": {},
   "outputs": [],
   "source": [
    "from time import time\n",
    "\n",
    "\n",
    "class localSearch(object):\n",
    "    def localSearch(self, problem, search_type, i):\n",
    "        n_iterations = i\n",
    "        cnt = 0\n",
    "        start = time()\n",
    "        s = []\n",
    "        for i in range(n_iterations):\n",
    "            result = search_type(problem)\n",
    "            if problem.heuristic(result) is 0:\n",
    "                cnt += 1\n",
    "                s.append(result)\n",
    "        print (\" - Hit rate: %2d/%d\\tRuntime: %f\" % (cnt, n_iterations, time() - start))\n",
    "        return s"
   ]
  },
  {
   "cell_type": "code",
   "execution_count": 8,
   "metadata": {},
   "outputs": [],
   "source": [
    "test = localSearch()\n",
    "problem = NQueensSearch(8)"
   ]
  },
  {
   "cell_type": "code",
   "execution_count": 6,
   "metadata": {},
   "outputs": [],
   "source": []
  },
  {
   "cell_type": "code",
   "execution_count": 9,
   "metadata": {},
   "outputs": [
    {
     "name": "stdout",
     "output_type": "stream",
     "text": [
      " - Hit rate:  0/10\tRuntime: 0.040050\n"
     ]
    }
   ],
   "source": [
    "result_board = test.localSearch(problem, hill_climbing, 10)"
   ]
  },
  {
   "cell_type": "code",
   "execution_count": 11,
   "metadata": {},
   "outputs": [
    {
     "ename": "NameError",
     "evalue": "name 'printBoard' is not defined",
     "output_type": "error",
     "traceback": [
      "\u001b[1;31m---------------------------------------------------------------------------\u001b[0m",
      "\u001b[1;31mNameError\u001b[0m                                 Traceback (most recent call last)",
      "\u001b[1;32m<ipython-input-11-6835949832ce>\u001b[0m in \u001b[0;36m<module>\u001b[1;34m\u001b[0m\n\u001b[1;32m----> 1\u001b[1;33m \u001b[0mprintBoard\u001b[0m\u001b[1;33m(\u001b[0m\u001b[0mresult_board\u001b[0m\u001b[1;33m,\u001b[0m \u001b[0margs\u001b[0m\u001b[1;33m.\u001b[0m\u001b[0mall\u001b[0m\u001b[1;33m)\u001b[0m\u001b[1;33m\u001b[0m\u001b[1;33m\u001b[0m\u001b[0m\n\u001b[0m",
      "\u001b[1;31mNameError\u001b[0m: name 'printBoard' is not defined"
     ]
    }
   ],
   "source": [
    "printBoard(result_board, args.all)"
   ]
  },
  {
   "cell_type": "code",
   "execution_count": null,
   "metadata": {},
   "outputs": [],
   "source": []
  },
  {
   "cell_type": "code",
   "execution_count": null,
   "metadata": {},
   "outputs": [],
   "source": []
  },
  {
   "cell_type": "code",
   "execution_count": null,
   "metadata": {},
   "outputs": [],
   "source": []
  },
  {
   "cell_type": "code",
   "execution_count": null,
   "metadata": {},
   "outputs": [],
   "source": []
  }
 ],
 "metadata": {
  "kernelspec": {
   "display_name": "Python 3",
   "language": "python",
   "name": "python3"
  },
  "language_info": {
   "codemirror_mode": {
    "name": "ipython",
    "version": 3
   },
   "file_extension": ".py",
   "mimetype": "text/x-python",
   "name": "python",
   "nbconvert_exporter": "python",
   "pygments_lexer": "ipython3",
   "version": "3.7.4"
  }
 },
 "nbformat": 4,
 "nbformat_minor": 2
}
