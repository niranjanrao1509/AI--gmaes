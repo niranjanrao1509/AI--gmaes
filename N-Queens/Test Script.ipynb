{
 "cells": [
  {
   "cell_type": "code",
   "execution_count": 1,
   "metadata": {},
   "outputs": [],
   "source": [
    "import argparse\n",
    "from printBoard import printBoard\n",
    "from localSearch import localSearch\n",
    "from hill_climbing import hill_climbing\n",
    "from hill_climbing import random_restart\n",
    "from simulated_annealing import simulated_annealing\n",
    "from NQueens import NQueensSearch\n"
   ]
  },
  {
   "cell_type": "code",
   "execution_count": 2,
   "metadata": {},
   "outputs": [],
   "source": [
    "test = localSearch()\n",
    "    # Inicia o problema passando o tamanho do tabuleiro\n",
    "problem = NQueensSearch(8)\n",
    "algorithms = [hill_climbing]\n",
    "names = [\"hill_climbing\"]\n",
    "problems = [problem, problem, problem]\n"
   ]
  },
  {
   "cell_type": "code",
   "execution_count": 3,
   "metadata": {},
   "outputs": [
    {
     "name": "stdout",
     "output_type": "stream",
     "text": [
      "hill_climbing\n",
      "[3, 6, 0, 2, 5, 1, 4, 7]\n",
      "[3, 6, 0, 5, 2, 4, 7, 1]\n",
      "[2, 5, 3, 1, 7, 4, 6, 0]\n",
      "[2, 4, 1, 7, 5, 3, 6, 0]\n",
      "[5, 3, 1, 6, 4, 2, 0, 7]\n",
      "[0, 6, 1, 4, 1, 7, 2, 5]\n",
      "[0, 4, 1, 3, 6, 3, 7, 2]\n",
      "[3, 5, 0, 4, 1, 7, 6, 2]\n",
      "[3, 3, 6, 4, 1, 5, 0, 2]\n",
      "[1, 6, 0, 3, 0, 7, 5, 2]\n",
      " - Hit rate:  0/10\tRuntime: 0.039881\n"
     ]
    }
   ],
   "source": [
    "    for i in range(len(algorithms)):\n",
    "        print (names[i])\n",
    "        result_board = test.localSearch(problems[i], algorithms[i], 10)\n",
    "\n",
    "        # Imprime um tabuleiro com base no argumento --all passado\n",
    "#         printBoard(result_board, args.all)\n"
   ]
  },
  {
   "cell_type": "code",
   "execution_count": 2,
   "metadata": {},
   "outputs": [],
   "source": [
    "import argparse\n",
    "from printBoard import printBoard\n",
    "from localSearch import localSearch\n",
    "from hill_climbing import hill_climbing\n",
    "from hill_climbing import random_restart\n",
    "from simulated_annealing import simulated_annealing\n",
    "from NQueens import NQueensSearch\n"
   ]
  },
  {
   "cell_type": "code",
   "execution_count": 3,
   "metadata": {},
   "outputs": [],
   "source": [
    "test = localSearch()\n",
    "problem = NQueensSearch(4)\n",
    "# algorithms = [hill_climbing]\n",
    "# names = [\"hill_climbing\"]\n",
    "# problems = [problem, problem, problem]\n"
   ]
  },
  {
   "cell_type": "code",
   "execution_count": 2,
   "metadata": {},
   "outputs": [
    {
     "ename": "NameError",
     "evalue": "name 'problem' is not defined",
     "output_type": "error",
     "traceback": [
      "\u001b[1;31m---------------------------------------------------------------------------\u001b[0m",
      "\u001b[1;31mNameError\u001b[0m                                 Traceback (most recent call last)",
      "\u001b[1;32m<ipython-input-2-65d6e88542e8>\u001b[0m in \u001b[0;36m<module>\u001b[1;34m\u001b[0m\n\u001b[1;32m----> 1\u001b[1;33m \u001b[0mcurrent\u001b[0m \u001b[1;33m=\u001b[0m \u001b[0mproblem\u001b[0m\u001b[1;33m.\u001b[0m\u001b[0minitial\u001b[0m\u001b[1;33m(\u001b[0m\u001b[1;33m)\u001b[0m\u001b[1;33m\u001b[0m\u001b[1;33m\u001b[0m\u001b[0m\n\u001b[0m\u001b[0;32m      2\u001b[0m \u001b[0mneighbours\u001b[0m \u001b[1;33m=\u001b[0m \u001b[0mproblem\u001b[0m\u001b[1;33m.\u001b[0m\u001b[0mnearStates\u001b[0m\u001b[1;33m(\u001b[0m\u001b[0mcurrent\u001b[0m\u001b[1;33m)\u001b[0m\u001b[1;33m\u001b[0m\u001b[1;33m\u001b[0m\u001b[0m\n",
      "\u001b[1;31mNameError\u001b[0m: name 'problem' is not defined"
     ]
    }
   ],
   "source": [
    "current = problem.initial()\n",
    "neighbours = problem.nearStates(current)"
   ]
  },
  {
   "cell_type": "code",
   "execution_count": 7,
   "metadata": {},
   "outputs": [],
   "source": [
    "neighbour = max(neighbours, key=lambda state: problem.heuristic(state))\n",
    "if problem.heuristic(neighbour) <= problem.heuristic(current):\n",
    "    print(\"bleh\")\n",
    "current = neighbour"
   ]
  },
  {
   "cell_type": "code",
   "execution_count": 3,
   "metadata": {},
   "outputs": [
    {
     "data": {
      "text/plain": [
       "[0, 1, 3, 2]"
      ]
     },
     "execution_count": 3,
     "metadata": {},
     "output_type": "execute_result"
    }
   ],
   "source": [
    "problem.initial()"
   ]
  },
  {
   "cell_type": "code",
   "execution_count": 5,
   "metadata": {},
   "outputs": [
    {
     "name": "stdout",
     "output_type": "stream",
     "text": [
      "[[0, 0, 3, 3], [1, 0, 3, 3], [2, 0, 3, 3], [3, 1, 3, 3], [3, 2, 3, 3], [3, 3, 3, 3], [3, 0, 0, 3], [3, 0, 1, 3], [3, 0, 2, 3], [3, 0, 3, 0], [3, 0, 3, 1], [3, 0, 3, 2]]\n",
      "heyyy\n",
      "[2, 0, 3, 3]\n",
      "[[0, 0, 3, 3], [1, 0, 3, 3], [3, 0, 3, 3], [2, 1, 3, 3], [2, 2, 3, 3], [2, 3, 3, 3], [2, 0, 0, 3], [2, 0, 1, 3], [2, 0, 2, 3], [2, 0, 3, 0], [2, 0, 3, 1], [2, 0, 3, 2]]\n",
      "heyyy\n",
      "[2, 0, 3, 1]\n",
      "[[0, 0, 3, 1], [1, 0, 3, 1], [3, 0, 3, 1], [2, 1, 3, 1], [2, 2, 3, 1], [2, 3, 3, 1], [2, 0, 0, 1], [2, 0, 1, 1], [2, 0, 2, 1], [2, 0, 3, 0], [2, 0, 3, 2], [2, 0, 3, 3]]\n",
      "heyyy\n",
      "[0, 0, 3, 1]\n"
     ]
    }
   ],
   "source": [
    "a = hill_climbing(problem)"
   ]
  },
  {
   "cell_type": "code",
   "execution_count": 4,
   "metadata": {},
   "outputs": [
    {
     "name": "stdout",
     "output_type": "stream",
     "text": [
      "heyyy\n",
      "heyyy\n",
      "heyyy\n",
      "heyyy\n",
      "LOOP COUNT 0\n",
      "[2, 0, 3, 1]\n",
      "-0.0\n",
      "RESULT IS 0\n",
      "heyyy\n",
      "heyyy\n",
      "LOOP COUNT 1\n",
      "[3, 0, 2, 1]\n",
      "-1.0\n",
      "heyyy\n",
      "heyyy\n",
      "LOOP COUNT 2\n",
      "[2, 0, 1, 3]\n",
      "-1.0\n",
      "heyyy\n",
      "heyyy\n",
      "heyyy\n",
      "heyyy\n",
      "heyyy\n",
      "LOOP COUNT 3\n",
      "[1, 3, 0, 2]\n",
      "-0.0\n",
      "RESULT IS 0\n",
      "heyyy\n",
      "heyyy\n",
      "heyyy\n",
      "LOOP COUNT 4\n",
      "[0, 3, 1, 2]\n",
      "-1.0\n",
      "heyyy\n",
      "heyyy\n",
      "heyyy\n",
      "LOOP COUNT 5\n",
      "[1, 3, 0, 2]\n",
      "-0.0\n",
      "RESULT IS 0\n",
      "heyyy\n",
      "heyyy\n",
      "LOOP COUNT 6\n",
      "[2, 0, 3, 1]\n",
      "-0.0\n",
      "RESULT IS 0\n",
      "heyyy\n",
      "heyyy\n",
      "heyyy\n",
      "LOOP COUNT 7\n",
      "[3, 0, 2, 1]\n",
      "-1.0\n",
      "heyyy\n",
      "heyyy\n",
      "heyyy\n",
      "LOOP COUNT 8\n",
      "[0, 2, 3, 1]\n",
      "-1.0\n",
      "heyyy\n",
      "heyyy\n",
      "LOOP COUNT 9\n",
      "[1, 3, 0, 2]\n",
      "-0.0\n",
      "RESULT IS 0\n",
      " - Hit rate:  5/10\tRuntime: 0.007977\n"
     ]
    },
    {
     "data": {
      "text/plain": [
       "[[2, 0, 3, 1], [1, 3, 0, 2], [1, 3, 0, 2], [2, 0, 3, 1], [1, 3, 0, 2]]"
      ]
     },
     "execution_count": 4,
     "metadata": {},
     "output_type": "execute_result"
    }
   ],
   "source": [
    "test.localSearch(problem, hill_climbing, 10)"
   ]
  }
 ],
 "metadata": {
  "kernelspec": {
   "display_name": "Python 3",
   "language": "python",
   "name": "python3"
  },
  "language_info": {
   "codemirror_mode": {
    "name": "ipython",
    "version": 3
   },
   "file_extension": ".py",
   "mimetype": "text/x-python",
   "name": "python",
   "nbconvert_exporter": "python",
   "pygments_lexer": "ipython3",
   "version": "3.7.4"
  }
 },
 "nbformat": 4,
 "nbformat_minor": 2
}
